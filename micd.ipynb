{
 "cells": [
  {
   "cell_type": "markdown",
   "metadata": {},
   "source": [
    "# TD2 - MICD (MIC différentiel)"
   ]
  },
  {
   "cell_type": "markdown",
   "metadata": {},
   "source": [
    "## Encodeur (émetteur)"
   ]
  },
  {
   "cell_type": "code",
   "execution_count": 2,
   "metadata": {},
   "outputs": [],
   "source": [
    "def quantification(x):\n",
    "    if (x<-2):\n",
    "        y=-2\n",
    "    elif (x>2):\n",
    "        y=2\n",
    "    else:\n",
    "        y=x\n",
    "    return (y)\n",
    "\n",
    "def encodage(sequence):\n",
    "    sortie = []\n",
    "    a_chapeau=0\n",
    "    for a_n in sequence:\n",
    "        e_n = a_n - a_chapeau\n",
    "        e_n_plus_q_n= quantification(e_n)\n",
    "        sortie.append(e_n_plus_q_n)\n",
    "        a_chapeau = a_chapeau + e_n_plus_q_n\n",
    "    return(sortie)\n",
    "\n",
    "def encodage(sequence):\n",
    "    sortie = []\n",
    "    a_chapeau=0\n",
    "    for a_n in sequence:\n",
    "        e_n = a_n - a_chapeau\n",
    "        e_n_plus_q_n= quantification(e_n)\n",
    "        sortie.append(e_n_plus_q_n)\n",
    "        a_chapeau = a_chapeau + e_n_plus_q_n\n",
    "    return(sortie)\n"
   ]
  },
  {
   "cell_type": "markdown",
   "metadata": {},
   "source": [
    "## décodeur "
   ]
  },
  {
   "cell_type": "code",
   "execution_count": 3,
   "metadata": {},
   "outputs": [],
   "source": [
    "def decodage(sequence_encodee):\n",
    "    reconstruite = []\n",
    "    valeur = 0\n",
    "    for i in sequence_encodee:\n",
    "        valeur = valeur + i\n",
    "        reconstruite.append(valeur)\n",
    "    return(reconstruite)"
   ]
  },
  {
   "cell_type": "markdown",
   "metadata": {},
   "source": [
    "## Application sur une séquence "
   ]
  },
  {
   "cell_type": "code",
   "execution_count": 47,
   "metadata": {},
   "outputs": [
    {
     "data": {
      "text/html": [
       "<div>\n",
       "<table border=\"1\" class=\"dataframe\">\n",
       "  <thead>\n",
       "    <tr style=\"text-align: right;\">\n",
       "      <th></th>\n",
       "      <th>0</th>\n",
       "      <th>1</th>\n",
       "      <th>2</th>\n",
       "      <th>3</th>\n",
       "      <th>4</th>\n",
       "      <th>5</th>\n",
       "      <th>6</th>\n",
       "      <th>7</th>\n",
       "      <th>8</th>\n",
       "      <th>9</th>\n",
       "      <th>10</th>\n",
       "      <th>11</th>\n",
       "      <th>12</th>\n",
       "      <th>13</th>\n",
       "      <th>14</th>\n",
       "      <th>15</th>\n",
       "      <th>16</th>\n",
       "      <th>17</th>\n",
       "      <th>18</th>\n",
       "      <th>19</th>\n",
       "    </tr>\n",
       "  </thead>\n",
       "  <tbody>\n",
       "    <tr>\n",
       "      <th>a_n</th>\n",
       "      <td>1</td>\n",
       "      <td>2</td>\n",
       "      <td>2</td>\n",
       "      <td>2</td>\n",
       "      <td>2</td>\n",
       "      <td>2</td>\n",
       "      <td>5</td>\n",
       "      <td>5</td>\n",
       "      <td>5</td>\n",
       "      <td>5</td>\n",
       "      <td>5</td>\n",
       "      <td>6</td>\n",
       "      <td>5</td>\n",
       "      <td>6</td>\n",
       "      <td>2</td>\n",
       "      <td>1</td>\n",
       "      <td>3</td>\n",
       "      <td>2</td>\n",
       "      <td>2</td>\n",
       "      <td>2</td>\n",
       "    </tr>\n",
       "    <tr>\n",
       "      <th>e_n+q_n</th>\n",
       "      <td>1</td>\n",
       "      <td>1</td>\n",
       "      <td>0</td>\n",
       "      <td>0</td>\n",
       "      <td>0</td>\n",
       "      <td>0</td>\n",
       "      <td>2</td>\n",
       "      <td>1</td>\n",
       "      <td>0</td>\n",
       "      <td>0</td>\n",
       "      <td>0</td>\n",
       "      <td>1</td>\n",
       "      <td>-1</td>\n",
       "      <td>1</td>\n",
       "      <td>-2</td>\n",
       "      <td>-2</td>\n",
       "      <td>1</td>\n",
       "      <td>-1</td>\n",
       "      <td>0</td>\n",
       "      <td>0</td>\n",
       "    </tr>\n",
       "    <tr>\n",
       "      <th>a_n_chapeau</th>\n",
       "      <td>1</td>\n",
       "      <td>2</td>\n",
       "      <td>2</td>\n",
       "      <td>2</td>\n",
       "      <td>2</td>\n",
       "      <td>2</td>\n",
       "      <td>4</td>\n",
       "      <td>5</td>\n",
       "      <td>5</td>\n",
       "      <td>5</td>\n",
       "      <td>5</td>\n",
       "      <td>6</td>\n",
       "      <td>5</td>\n",
       "      <td>6</td>\n",
       "      <td>4</td>\n",
       "      <td>2</td>\n",
       "      <td>3</td>\n",
       "      <td>2</td>\n",
       "      <td>2</td>\n",
       "      <td>2</td>\n",
       "    </tr>\n",
       "  </tbody>\n",
       "</table>\n",
       "</div>"
      ],
      "text/plain": [
       "             0   1   2   3   4   5   6   7   8   9   10  11  12  13  14  15  \\\n",
       "a_n           1   2   2   2   2   2   5   5   5   5   5   6   5   6   2   1   \n",
       "e_n+q_n       1   1   0   0   0   0   2   1   0   0   0   1  -1   1  -2  -2   \n",
       "a_n_chapeau   1   2   2   2   2   2   4   5   5   5   5   6   5   6   4   2   \n",
       "\n",
       "             16  17  18  19  \n",
       "a_n           3   2   2   2  \n",
       "e_n+q_n       1  -1   0   0  \n",
       "a_n_chapeau   3   2   2   2  "
      ]
     },
     "execution_count": 47,
     "metadata": {},
     "output_type": "execute_result"
    }
   ],
   "source": [
    "sequence = [1,2,2,2,2,2,5,5,5,5,5,6,5,6,2,1,3,2,2,2]\n",
    "sequence_encodee = encodage(sequence)\n",
    "sequence_reconstruite = decodage(sequence_encodee)\n",
    "\n",
    "import pandas as pd\n",
    "import numpy as np\n",
    "\n",
    "v = sequence\n",
    "v = np.vstack((v,sequence_encodee))\n",
    "v = np.vstack((v,sequence_reconstruite))\n",
    "\n",
    "newindex = ['a_n','e_n+q_n','a_n_chapeau']\n",
    "df = pd.DataFrame(data=v,index=newindex)\n",
    "\n",
    "\n",
    "df"
   ]
  },
  {
   "cell_type": "code",
   "execution_count": null,
   "metadata": {},
   "outputs": [],
   "source": []
  },
  {
   "cell_type": "markdown",
   "metadata": {},
   "source": []
  },
  {
   "cell_type": "code",
   "execution_count": null,
   "metadata": {},
   "outputs": [],
   "source": [
    "\n",
    "\n"
   ]
  },
  {
   "cell_type": "code",
   "execution_count": null,
   "metadata": {},
   "outputs": [],
   "source": [
    "\n"
   ]
  },
  {
   "cell_type": "code",
   "execution_count": null,
   "metadata": {},
   "outputs": [],
   "source": []
  }
 ],
 "metadata": {
  "kernelspec": {
   "display_name": "Python 3",
   "language": "python",
   "name": "python3"
  },
  "language_info": {
   "codemirror_mode": {
    "name": "ipython",
    "version": 3
   },
   "file_extension": ".py",
   "mimetype": "text/x-python",
   "name": "python",
   "nbconvert_exporter": "python",
   "pygments_lexer": "ipython3",
   "version": "3.5.4"
  }
 },
 "nbformat": 4,
 "nbformat_minor": 2
}
