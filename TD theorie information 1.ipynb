{
 "cells": [
  {
   "cell_type": "markdown",
   "metadata": {},
   "source": [
    "# TD Théorie de l'information 1"
   ]
  },
  {
   "cell_type": "markdown",
   "metadata": {},
   "source": [
    "## Etude de la fonction $x.log_2(x)$"
   ]
  },
  {
   "cell_type": "markdown",
   "metadata": {},
   "source": [
    "## Graphe de la fonction"
   ]
  },
  {
   "cell_type": "code",
   "execution_count": 44,
   "metadata": {},
   "outputs": [
    {
     "data": {
      "text/plain": [
       "<matplotlib.text.Text at 0x11984ca58>"
      ]
     },
     "execution_count": 44,
     "metadata": {},
     "output_type": "execute_result"
    },
    {
     "data": {
      "image/png": "[encoded data removed]",
      "text/plain": [
       "<matplotlib.figure.Figure at 0x119cee0b8>"
      ]
     },
     "metadata": {},
     "output_type": "display_data"
    }
   ],
   "source": [
    "%matplotlib inline\n",
    "import matplotlib.pyplot as plt\n",
    "import seaborn as sns\n",
    "sns.set(style=\"darkgrid\")\n",
    "\n",
    "import numpy as np\n",
    "from math import *\n",
    "from sympy import init_printing\n",
    "\n",
    "init_printing()\n",
    "\n",
    "fig, (ax1,ax2) = plt.subplots(nrows=1, ncols=2)\n",
    "\n",
    "x=np.linspace(0.000,1,1000)\n",
    "ax1.plot(x,np.log2(x))  # utiliser np. car c'est la fonction log2 vectorisée de numpy\n",
    "#ax1.ylabel(\"$log_2(x)$\")\n",
    "#ax1.xlabel(\"$x$\")\n",
    "ax1.set_title(\"$ log_2(x) $\",fontsize=20)\n",
    "ax2.plot(x,x*np.log2(x))  # utiliser np. car c'est la fonction log2 vectorisée de numpy\n",
    "ax2.set_title(\"$ x.log_2(x)$\",fontsize=20)\n"
   ]
  },
  {
   "cell_type": "markdown",
   "metadata": {},
   "source": [
    " se rappeler que $\\lim_{x\\to0} x.ln(x)=0$ et $\\log_2(x)=\\frac{ln(x)}{ln(2)}$"
   ]
  },
  {
   "cell_type": "markdown",
   "metadata": {},
   "source": [
    "## Calcul de la dérivée"
   ]
  },
  {
   "cell_type": "code",
   "execution_count": 25,
   "metadata": {},
   "outputs": [
    {
     "data": {
      "image/png": "[encoded data removed]",
      "text/latex": [
       "$$\\frac{\\log{\\left (x \\right )} + 1}{\\log{\\left (2 \\right )}}$$"
      ],
      "text/plain": [
       "log(x) + 1\n",
       "──────────\n",
       "  log(2)  "
      ]
     },
     "metadata": {},
     "output_type": "display_data"
    }
   ],
   "source": [
    "from sympy import * # Librarie de calcul symbolique \n",
    "x = symbols('x')\n",
    "from IPython.display import display\n",
    "# ci-dessous on re-ecrit log2(x) comme log(x)/log(2) pour aider sympy\n",
    "display(simplify(diff(x*log(x)/log(2), x)) )  # Calcul de la derivee"
   ]
  },
  {
   "cell_type": "markdown",
   "metadata": {},
   "source": [
    "## Trouver quand cette dérivée s'annule"
   ]
  },
  {
   "cell_type": "code",
   "execution_count": null,
   "metadata": {},
   "outputs": [],
   "source": [
    "t=np.linspace(0.01,1,100)\n",
    "plt.plot(t,(np.log(t)+1)/np.log(2))  \n",
    "plt.plot([0, 1], [0, 0], color='r', linestyle='-', linewidth=1)\n",
    "plt.ylabel('derivée ($x.log_2(x)$)')\n",
    "plt.xlabel(\"x\")\n",
    "plt.show()"
   ]
  },
  {
   "cell_type": "code",
   "execution_count": null,
   "metadata": {},
   "outputs": [],
   "source": [
    "display(solve((log(x) + 1)/log(2),x))"
   ]
  },
  {
   "cell_type": "markdown",
   "metadata": {},
   "source": [
    "## Source à deux evenements (la pièce plus ou moins truquée)"
   ]
  },
  {
   "cell_type": "code",
   "execution_count": null,
   "metadata": {},
   "outputs": [],
   "source": [
    "from sympy import *\n",
    "\n",
    "x = symbols('x')\n",
    "premier = simplify(diff(x*log(x)/log(2), x))  # Calcul de la derivee\n",
    "second  = simplify(diff((1-x)*log(1-x)/log(2), x))\n",
    "la_derivee = simplify(premier+second)\n",
    "display(premier)\n",
    "display(second)\n",
    "display(la_derivee)"
   ]
  },
  {
   "cell_type": "markdown",
   "metadata": {},
   "source": [
    "### on cherche maintenant quand la dérivée s'annule en utilisant la fonction solve"
   ]
  },
  {
   "cell_type": "code",
   "execution_count": null,
   "metadata": {},
   "outputs": [],
   "source": [
    "display(solve(la_derivee,x))"
   ]
  },
  {
   "cell_type": "markdown",
   "metadata": {},
   "source": [
    "# Exercice 3"
   ]
  },
  {
   "cell_type": "markdown",
   "metadata": {},
   "source": [
    "Calcul de l'entropie"
   ]
  },
  {
   "cell_type": "code",
   "execution_count": 64,
   "metadata": {},
   "outputs": [
    {
     "name": "stdout",
     "output_type": "stream",
     "text": [
      "[-6.         -5.         -4.         -2.         -0.91253716 -4.         -5.\n",
      " -6.        ]\n"
     ]
    },
    {
     "data": {
      "image/png": "[encoded data removed]",
      "text/latex": [
       "$$1.98478536559$$"
      ],
      "text/plain": [
       "1.98478536559"
      ]
     },
     "execution_count": 64,
     "metadata": {},
     "output_type": "execute_result"
    }
   ],
   "source": [
    "from scipy.stats import entropy\n",
    "probas  = [1/64,1/32,1/16,1/4,17/32,1/16,1/32,1/64]\n",
    "tableau_log2_probas=np.log2(probas)\n",
    "print(tableau_log2_probas)\n",
    "-1*np.dot(a,tableau_log2_probas) # somme des produit terme a terme entre a et tableau_log2_probas"
   ]
  },
  {
   "cell_type": "code",
   "execution_count": 66,
   "metadata": {},
   "outputs": [
    {
     "name": "stdout",
     "output_type": "stream",
     "text": [
      "1.98478536559\n"
     ]
    }
   ],
   "source": [
    "print (entropy(a,base=2)) # on aurait pu utiliser la librarie scipy "
   ]
  },
  {
   "cell_type": "code",
   "execution_count": null,
   "metadata": {
    "collapsed": true
   },
   "outputs": [],
   "source": []
  },
  {
   "cell_type": "code",
   "execution_count": 46,
   "metadata": {},
   "outputs": [
    {
     "name": "stdout",
     "output_type": "stream",
     "text": [
      "2.046875\n"
     ]
    }
   ],
   "source": [
    "longueur_code_virgule = 17/32*1+1/4*2+1/16*3+1/16*4+1/32*5+1/32*6+1/64*7+1/64*8\n",
    "print(longueur_code_virgule)"
   ]
  },
  {
   "cell_type": "markdown",
   "metadata": {},
   "source": [
    "Huffmann :\n",
    "\n",
    "* 0:00000\n",
    "* 7:00001\n",
    "* 1:00010\n",
    "* 6:00011\n",
    "* 2:0010\n",
    "* 5:0011\n",
    "* 3:01\n",
    "* 4:1"
   ]
  },
  {
   "cell_type": "code",
   "execution_count": 47,
   "metadata": {},
   "outputs": [
    {
     "name": "stdout",
     "output_type": "stream",
     "text": [
      "2.0\n"
     ]
    }
   ],
   "source": [
    "longueur_code_huffmann = 5/64+5/64+5/32+5/32+4/16+4/16+2/4+17/32\n",
    "print(longueur_code_huffmann)"
   ]
  },
  {
   "cell_type": "markdown",
   "metadata": {},
   "source": [
    "Shannon-Fano :\n",
    "* 0:00000\n",
    "* 7:00001\n",
    "* 1:00010\n",
    "* 6:00011\n",
    "* 2:0010\n",
    "* 5:0011\n",
    "* 3:01\n",
    "* 4:1\n",
    "\n",
    "où on voit qu'on obtient le même code que avec Huffmann (donc la même longueur moyenne) mais c'est plutôt l'exception que la règle."
   ]
  },
  {
   "cell_type": "code",
   "execution_count": null,
   "metadata": {
    "collapsed": true
   },
   "outputs": [],
   "source": []
  }
 ],
 "metadata": {
  "kernelspec": {
   "display_name": "Python 3",
   "language": "python",
   "name": "python3"
  },
  "language_info": {
   "codemirror_mode": {
    "name": "ipython",
    "version": 3
   },
   "file_extension": ".py",
   "mimetype": "text/x-python",
   "name": "python",
   "nbconvert_exporter": "python",
   "pygments_lexer": "ipython3",
   "version": "3.5.4"
  }
 },
 "nbformat": 4,
 "nbformat_minor": 1
}
