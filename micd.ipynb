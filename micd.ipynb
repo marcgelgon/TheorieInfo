{
 "cells": [
  {
   "cell_type": "markdown",
   "metadata": {},
   "source": [
    "Encodeur (émetteur)"
   ]
  },
  {
   "cell_type": "markdown",
   "metadata": {},
   "source": [
    "def quantification(x):\n",
    "    if (x<-2):\n",
    "        y=-2\n",
    "    elif (x>2):\n",
    "        y=2\n",
    "    else:\n",
    "        y=x\n",
    "    return (y)\n",
    "\n",
    "sequence = [1,2,2,2,2,2,8,8,8,8,8,8,8,8]\n",
    "sortie = []\n",
    "a_chapeau=0\n",
    "for a_n in sequence:\n",
    "    e_n = a_n - a_chapeau\n",
    "    e_n_plus_q_n= quantification(e_n)\n",
    "    sortie.append(e_n_plus_q_n)\n",
    "    a_chapeau = a_chapeau + e_n_plus_q_n\n",
    "print(sortie)\n",
    "\n"
   ]
  },
  {
   "cell_type": "markdown",
   "metadata": {},
   "source": [
    "Reconstruction (récepteur)"
   ]
  },
  {
   "cell_type": "code",
   "execution_count": null,
   "metadata": {},
   "outputs": [],
   "source": [
    "reconstruite = []\n",
    "valeur = 0\n",
    "for i in sortie:\n",
    "    valeur = valeur + i\n",
    "    reconstruite.append(valeur)\n",
    "print(reconstruite)\n",
    "\n"
   ]
  },
  {
   "cell_type": "code",
   "execution_count": 20,
   "metadata": {},
   "outputs": [
    {
     "name": "stderr",
     "output_type": "stream",
     "text": [
      "/Users/marc2/anaconda/envs/py35/lib/python3.5/site-packages/seaborn/timeseries.py:183: UserWarning: The tsplot function is deprecated and will be removed or replaced (in a substantially altered version) in a future release.\n",
      "  warnings.warn(msg, UserWarning)\n"
     ]
    },
    {
     "data": {
      "image/png": "[encoded data removed]",
      "text/plain": [
       "<matplotlib.figure.Figure at 0x10cfb5b38>"
      ]
     },
     "metadata": {},
     "output_type": "display_data"
    }
   ],
   "source": [
    "%matplotlib inline\n",
    "import seaborn as sns\n",
    "ax = sns.tsplot(data=sequence)\n",
    "ax = sns.tsplot(data=reconstruite)\n"
   ]
  },
  {
   "cell_type": "code",
   "execution_count": null,
   "metadata": {},
   "outputs": [],
   "source": []
  }
 ],
 "metadata": {
  "kernelspec": {
   "display_name": "Python 3",
   "language": "python",
   "name": "python3"
  },
  "language_info": {
   "codemirror_mode": {
    "name": "ipython",
    "version": 3
   },
   "file_extension": ".py",
   "mimetype": "text/x-python",
   "name": "python",
   "nbconvert_exporter": "python",
   "pygments_lexer": "ipython3",
   "version": "3.5.4"
  }
 },
 "nbformat": 4,
 "nbformat_minor": 2
}
