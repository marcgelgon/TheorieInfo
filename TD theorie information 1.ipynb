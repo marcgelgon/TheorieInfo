{
 "cells": [
  {
   "cell_type": "markdown",
   "metadata": {},
   "source": [
    "# TD Théorie de l'information 1"
   ]
  },
  {
   "cell_type": "markdown",
   "metadata": {},
   "source": [
    "## Etude de la fonction $x.log_2(x)$"
   ]
  },
  {
   "cell_type": "markdown",
   "metadata": {},
   "source": [
    "## Graphe de la fonction"
   ]
  },
  {
   "cell_type": "code",
   "execution_count": 1,
   "metadata": {},
   "outputs": [
    {
     "data": {
      "image/png": "[encoded data removed]",
      "text/plain": [
       "<matplotlib.figure.Figure at 0x105f04390>"
      ]
     },
     "metadata": {},
     "output_type": "display_data"
    }
   ],
   "source": [
    "import matplotlib.pyplot as plt\n",
    "import numpy as np\n",
    "from math import *\n",
    "x=np.linspace(0.01,1,100)\n",
    "plt.plot(x,x*np.log2(x))  # utiliser np. car c'est la fonction log2 vectorisée de numpy\n",
    "plt.ylabel('$x.log_2(x)$')\n",
    "plt.xlabel(\"$x$\")\n",
    "plt.show()"
   ]
  },
  {
   "cell_type": "markdown",
   "metadata": {},
   "source": [
    "## Calcul de la dérivée"
   ]
  },
  {
   "cell_type": "code",
   "execution_count": 2,
   "metadata": {},
   "outputs": [
    {
     "name": "stdout",
     "output_type": "stream",
     "text": [
      "(log(x) + 1)/log(2)\n"
     ]
    }
   ],
   "source": [
    "from sympy import * # Librarie de calcul symbolique \n",
    "x = symbols('x')\n",
    "from IPython.display import display\n",
    "# ci-dessous on re-ecrit log2(x) comme log(x)/log(2) pour aider sympy\n",
    "print(simplify(diff(x*log(x)/log(2), x)) )  # Calcul de la derivee"
   ]
  },
  {
   "cell_type": "markdown",
   "metadata": {},
   "source": [
    "## Trouver quand cette dérivée s'annule"
   ]
  },
  {
   "cell_type": "code",
   "execution_count": 3,
   "metadata": {},
   "outputs": [
    {
     "data": {
      "image/png": "[encoded data removed]",
      "text/plain": [
       "<matplotlib.figure.Figure at 0x10eea4588>"
      ]
     },
     "metadata": {},
     "output_type": "display_data"
    }
   ],
   "source": [
    "t=np.linspace(0.01,1,100)\n",
    "plt.plot(t,(np.log(t)+1)/np.log(2))  \n",
    "plt.plot([0, 1], [0, 0], color='r', linestyle='-', linewidth=1)\n",
    "plt.ylabel('derivée ($x.log_2(x)$)')\n",
    "plt.xlabel(\"x\")\n",
    "plt.show()"
   ]
  },
  {
   "cell_type": "code",
   "execution_count": null,
   "metadata": {
    "collapsed": true
   },
   "outputs": [],
   "source": []
  },
  {
   "cell_type": "code",
   "execution_count": 4,
   "metadata": {},
   "outputs": [
    {
     "data": {
      "text/plain": [
       "[exp(-1)]"
      ]
     },
     "metadata": {},
     "output_type": "display_data"
    }
   ],
   "source": [
    "display(solve((log(x) + 1)/log(2),x))"
   ]
  },
  {
   "cell_type": "markdown",
   "metadata": {},
   "source": [
    "## Source à deux evenements (la pièce plus ou moins truquée)"
   ]
  },
  {
   "cell_type": "code",
   "execution_count": 5,
   "metadata": {},
   "outputs": [
    {
     "data": {
      "text/plain": [
       "(log(x) + 1)/log(2)"
      ]
     },
     "metadata": {},
     "output_type": "display_data"
    },
    {
     "data": {
      "text/plain": [
       "-(log(-x + 1) + 1)/log(2)"
      ]
     },
     "metadata": {},
     "output_type": "display_data"
    },
    {
     "data": {
      "text/plain": [
       "(log(x) - log(-x + 1))/log(2)"
      ]
     },
     "metadata": {},
     "output_type": "display_data"
    }
   ],
   "source": [
    "from sympy import *\n",
    "\n",
    "x = symbols('x')\n",
    "premier = simplify(diff(x*log(x)/log(2), x))  # Calcul de la derivee\n",
    "second  = simplify(diff((1-x)*log(1-x)/log(2), x))\n",
    "la_derivee = simplify(premier+second)\n",
    "display(premier)\n",
    "display(second)\n",
    "display(la_derivee)"
   ]
  },
  {
   "cell_type": "markdown",
   "metadata": {},
   "source": [
    "### on cherche maintenant quand la dérivée s'annule en utilisant la fonction solve"
   ]
  },
  {
   "cell_type": "code",
   "execution_count": 6,
   "metadata": {},
   "outputs": [
    {
     "data": {
      "text/plain": [
       "[1/2]"
      ]
     },
     "metadata": {},
     "output_type": "display_data"
    }
   ],
   "source": [
    "display(solve(la_derivee,x))"
   ]
  },
  {
   "cell_type": "markdown",
   "metadata": {},
   "source": [
    "# Exercice 3"
   ]
  },
  {
   "cell_type": "markdown",
   "metadata": {},
   "source": [
    "Calcul de l'entropie"
   ]
  },
  {
   "cell_type": "code",
   "execution_count": 7,
   "metadata": {},
   "outputs": [
    {
     "name": "stdout",
     "output_type": "stream",
     "text": [
      "1.98478536559\n"
     ]
    }
   ],
   "source": [
    "from scipy.stats import entropy\n",
    "\n",
    "a = [1/64,1/32,1/16,1/4,17/32,1/16,1/32,1/64]\n",
    "H = entropy(a,base=2)\n",
    "print(H)"
   ]
  },
  {
   "cell_type": "code",
   "execution_count": 8,
   "metadata": {},
   "outputs": [
    {
     "name": "stdout",
     "output_type": "stream",
     "text": [
      "2.046875\n"
     ]
    }
   ],
   "source": [
    "longueur_code_virgule = 17/32*1+1/4*2+1/16*3+1/16*4+1/32*5+1/32*6+1/64*7+1/64*8\n",
    "print(longueur_code_virgule)"
   ]
  },
  {
   "cell_type": "markdown",
   "metadata": {},
   "source": [
    "Huffmann :\n",
    "\n",
    "* 0:00000\n",
    "* 7:00001\n",
    "* 1:00010\n",
    "* 6:00011\n",
    "* 2:0010\n",
    "* 5:0011\n",
    "* 3:01\n",
    "* 4:1"
   ]
  },
  {
   "cell_type": "code",
   "execution_count": 9,
   "metadata": {},
   "outputs": [
    {
     "name": "stdout",
     "output_type": "stream",
     "text": [
      "2.0\n"
     ]
    }
   ],
   "source": [
    "longueur_code_huffmann = 5/64+5/64+5/32+5/32+4/16+4/16+2/4+17/32\n",
    "print(longueur_code_huffmann)"
   ]
  },
  {
   "cell_type": "markdown",
   "metadata": {},
   "source": [
    "Shannon-Fano :\n",
    "* 0:00000\n",
    "* 7:00001\n",
    "* 1:00010\n",
    "* 6:00011\n",
    "* 2:0010\n",
    "* 5:0011\n",
    "* 3:01\n",
    "* 4:1\n",
    "\n",
    "où on voit qu'on obtient le même code que avec Huffmann (donc la même longueur moyenne) mais c'est plutôt l'exception que la règle."
   ]
  },
  {
   "cell_type": "code",
   "execution_count": null,
   "metadata": {
    "collapsed": true
   },
   "outputs": [],
   "source": []
  }
 ],
 "metadata": {
  "kernelspec": {
   "display_name": "Python 3",
   "language": "python",
   "name": "python3"
  },
  "language_info": {
   "codemirror_mode": {
    "name": "ipython",
    "version": 3
   },
   "file_extension": ".py",
   "mimetype": "text/x-python",
   "name": "python",
   "nbconvert_exporter": "python",
   "pygments_lexer": "ipython3",
   "version": "3.5.4"
  }
 },
 "nbformat": 4,
 "nbformat_minor": 1
}
