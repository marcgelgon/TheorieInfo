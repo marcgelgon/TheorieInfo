{
 "cells": [
  {
   "cell_type": "markdown",
   "metadata": {},
   "source": [
    "# TD Théorie de l'information 1"
   ]
  },
  {
   "cell_type": "markdown",
   "metadata": {},
   "source": [
    "## Etude de la fonction $x.log_2(x)$"
   ]
  },
  {
   "cell_type": "markdown",
   "metadata": {},
   "source": [
    "## Graphe de la fonction"
   ]
  },
  {
   "cell_type": "code",
   "execution_count": 16,
   "metadata": {},
   "outputs": [
    {
     "data": {
      "image/png": "[encoded data removed]",
      "text/plain": [
       "<matplotlib.figure.Figure at 0x119ba9fd0>"
      ]
     },
     "metadata": {},
     "output_type": "display_data"
    }
   ],
   "source": [
    "import matplotlib.pyplot as plt\n",
    "import seaborn as sns\n",
    "sns.set(style=\"darkgrid\")\n",
    "\n",
    "import numpy as np\n",
    "from math import *\n",
    "from sympy import init_printing\n",
    "\n",
    "init_printing()\n",
    "\n",
    "x=np.linspace(0.000,1,1000)\n",
    "plt.plot(x,x*np.log2(x))  # utiliser np. car c'est la fonction log2 vectorisée de numpy\n",
    "plt.ylabel(\"$x.log_2(x)$\")\n",
    "plt.xlabel(\"$x$\")\n",
    "plt.show()"
   ]
  },
  {
   "cell_type": "code",
   "execution_count": 13,
   "metadata": {},
   "outputs": [
    {
     "name": "stdout",
     "output_type": "stream",
     "text": [
      "[ 0.01  0.02  0.03  0.04  0.05  0.06  0.07  0.08  0.09  0.1   0.11  0.12\n",
      "  0.13  0.14  0.15  0.16  0.17  0.18  0.19  0.2   0.21  0.22  0.23  0.24\n",
      "  0.25  0.26  0.27  0.28  0.29  0.3   0.31  0.32  0.33  0.34  0.35  0.36\n",
      "  0.37  0.38  0.39  0.4   0.41  0.42  0.43  0.44  0.45  0.46  0.47  0.48\n",
      "  0.49  0.5   0.51  0.52  0.53  0.54  0.55  0.56  0.57  0.58  0.59  0.6\n",
      "  0.61  0.62  0.63  0.64  0.65  0.66  0.67  0.68  0.69  0.7   0.71  0.72\n",
      "  0.73  0.74  0.75  0.76  0.77  0.78  0.79  0.8   0.81  0.82  0.83  0.84\n",
      "  0.85  0.86  0.87  0.88  0.89  0.9   0.91  0.92  0.93  0.94  0.95  0.96\n",
      "  0.97  0.98  0.99  1.  ]\n"
     ]
    }
   ],
   "source": []
  },
  {
   "cell_type": "code",
   "execution_count": null,
   "metadata": {},
   "outputs": [],
   "source": []
  },
  {
   "cell_type": "markdown",
   "metadata": {},
   "source": [
    "Limite en 0 :\n",
    "* \n",
    "    "
   ]
  },
  {
   "cell_type": "markdown",
   "metadata": {},
   "source": [
    "## Calcul de la dérivée"
   ]
  },
  {
   "cell_type": "code",
   "execution_count": null,
   "metadata": {},
   "outputs": [],
   "source": [
    "from sympy import * # Librarie de calcul symbolique \n",
    "x = symbols('x')\n",
    "from IPython.display import display\n",
    "# ci-dessous on re-ecrit log2(x) comme log(x)/log(2) pour aider sympy\n",
    "display(simplify(diff(x*log(x)/log(2), x)) )  # Calcul de la derivee"
   ]
  },
  {
   "cell_type": "markdown",
   "metadata": {},
   "source": [
    "## Trouver quand cette dérivée s'annule"
   ]
  },
  {
   "cell_type": "code",
   "execution_count": null,
   "metadata": {},
   "outputs": [],
   "source": [
    "t=np.linspace(0.01,1,100)\n",
    "plt.plot(t,(np.log(t)+1)/np.log(2))  \n",
    "plt.plot([0, 1], [0, 0], color='r', linestyle='-', linewidth=1)\n",
    "plt.ylabel('derivée ($x.log_2(x)$)')\n",
    "plt.xlabel(\"x\")\n",
    "plt.show()"
   ]
  },
  {
   "cell_type": "code",
   "execution_count": null,
   "metadata": {},
   "outputs": [],
   "source": [
    "display(solve((log(x) + 1)/log(2),x))"
   ]
  },
  {
   "cell_type": "markdown",
   "metadata": {},
   "source": [
    "## Source à deux evenements (la pièce plus ou moins truquée)"
   ]
  },
  {
   "cell_type": "code",
   "execution_count": null,
   "metadata": {},
   "outputs": [],
   "source": [
    "from sympy import *\n",
    "\n",
    "x = symbols('x')\n",
    "premier = simplify(diff(x*log(x)/log(2), x))  # Calcul de la derivee\n",
    "second  = simplify(diff((1-x)*log(1-x)/log(2), x))\n",
    "la_derivee = simplify(premier+second)\n",
    "display(premier)\n",
    "display(second)\n",
    "display(la_derivee)"
   ]
  },
  {
   "cell_type": "markdown",
   "metadata": {},
   "source": [
    "### on cherche maintenant quand la dérivée s'annule en utilisant la fonction solve"
   ]
  },
  {
   "cell_type": "code",
   "execution_count": null,
   "metadata": {},
   "outputs": [],
   "source": [
    "display(solve(la_derivee,x))"
   ]
  },
  {
   "cell_type": "markdown",
   "metadata": {},
   "source": [
    "# Exercice 3"
   ]
  },
  {
   "cell_type": "markdown",
   "metadata": {},
   "source": [
    "Calcul de l'entropie"
   ]
  },
  {
   "cell_type": "code",
   "execution_count": null,
   "metadata": {},
   "outputs": [],
   "source": [
    "from scipy.stats import entropy\n",
    "\n",
    "a = [1/64,1/32,1/16,1/4,17/32,1/16,1/32,1/64]\n",
    "H = entropy(a,base=2)\n",
    "print(H)"
   ]
  },
  {
   "cell_type": "code",
   "execution_count": null,
   "metadata": {},
   "outputs": [],
   "source": [
    "longueur_code_virgule = 17/32*1+1/4*2+1/16*3+1/16*4+1/32*5+1/32*6+1/64*7+1/64*8\n",
    "print(longueur_code_virgule)"
   ]
  },
  {
   "cell_type": "markdown",
   "metadata": {},
   "source": [
    "Huffmann :\n",
    "\n",
    "* 0:00000\n",
    "* 7:00001\n",
    "* 1:00010\n",
    "* 6:00011\n",
    "* 2:0010\n",
    "* 5:0011\n",
    "* 3:01\n",
    "* 4:1"
   ]
  },
  {
   "cell_type": "code",
   "execution_count": null,
   "metadata": {},
   "outputs": [],
   "source": [
    "longueur_code_huffmann = 5/64+5/64+5/32+5/32+4/16+4/16+2/4+17/32\n",
    "print(longueur_code_huffmann)"
   ]
  },
  {
   "cell_type": "markdown",
   "metadata": {},
   "source": [
    "Shannon-Fano :\n",
    "* 0:00000\n",
    "* 7:00001\n",
    "* 1:00010\n",
    "* 6:00011\n",
    "* 2:0010\n",
    "* 5:0011\n",
    "* 3:01\n",
    "* 4:1\n",
    "\n",
    "où on voit qu'on obtient le même code que avec Huffmann (donc la même longueur moyenne) mais c'est plutôt l'exception que la règle."
   ]
  },
  {
   "cell_type": "code",
   "execution_count": null,
   "metadata": {
    "collapsed": true
   },
   "outputs": [],
   "source": []
  }
 ],
 "metadata": {
  "kernelspec": {
   "display_name": "Python 3",
   "language": "python",
   "name": "python3"
  },
  "language_info": {
   "codemirror_mode": {
    "name": "ipython",
    "version": 3
   },
   "file_extension": ".py",
   "mimetype": "text/x-python",
   "name": "python",
   "nbconvert_exporter": "python",
   "pygments_lexer": "ipython3",
   "version": "3.5.4"
  }
 },
 "nbformat": 4,
 "nbformat_minor": 1
}
